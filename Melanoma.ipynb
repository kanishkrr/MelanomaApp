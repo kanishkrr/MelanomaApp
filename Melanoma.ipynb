{
 "cells": [
  {
   "cell_type": "code",
   "execution_count": 1,
   "id": "24d8a89f",
   "metadata": {},
   "outputs": [],
   "source": [
    "import os\n",
    "from PIL import Image\n",
    "import torch\n",
    "import torch.nn as nn\n",
    "import torch.optim as optim\n",
    "from torch.utils.data import Dataset, DataLoader\n",
    "import torchvision.datasets as dsets\n",
    "import torchvision.transforms as transforms\n",
    "import numpy as np\n",
    "import matplotlib.pyplot as plt"
   ]
  },
  {
   "cell_type": "code",
   "execution_count": 2,
   "id": "cfc8a579",
   "metadata": {},
   "outputs": [],
   "source": [
    "train = []\n",
    "val = []\n",
    "\n",
    "#get paths to all of the images\n",
    "path = '/Users/kanishk/Downloads/vscode/python/machine learning/data/Melanoma'\n",
    "pt_b = path + '/train/benign'\n",
    "pt_m = path + '/train/malignant'\n",
    "pv_b = path + '/test/benign'\n",
    "pv_m = path + '/test/malignant'\n",
    "train_b = os.listdir(pt_b)\n",
    "train_m = os.listdir(pt_m)\n",
    "val_b = os.listdir(pv_b)\n",
    "val_m = os.listdir(pv_m)\n",
    "\n",
    "#prepare data + add it to the datasets\n",
    "length = 200\n",
    "shape = (length, length)\n",
    "\n",
    "trans = transforms.Compose([transforms.Resize(shape), transforms.ToTensor()])\n",
    "\n",
    "for file in train_b:\n",
    "    acc = []\n",
    "    img = Image.open(os.path.join(pt_b, file))\n",
    "    img = trans(img)\n",
    "    acc.append(img)\n",
    "    acc.append(torch.tensor(0.0))\n",
    "    train.append(acc)\n",
    "    \n",
    "for file in train_m:\n",
    "    acc = []\n",
    "    img = Image.open(os.path.join(pt_m, file))\n",
    "    img = trans(img)\n",
    "    acc.append(img)\n",
    "    acc.append(torch.tensor(1.0))\n",
    "    train.append(acc)\n",
    "    \n",
    "for file in val_b:\n",
    "    acc = []\n",
    "    img = Image.open(os.path.join(pv_b, file))\n",
    "    img = trans(img)\n",
    "    acc.append(img)\n",
    "    acc.append(torch.tensor(0.0))\n",
    "    val.append(acc)\n",
    "    \n",
    "for file in val_m:\n",
    "    acc = []\n",
    "    img = Image.open(os.path.join(pv_m, file))\n",
    "    img = trans(img)\n",
    "    acc.append(img)\n",
    "    acc.append(torch.tensor(1.0))\n",
    "    val.append(acc)"
   ]
  },
  {
   "cell_type": "code",
   "execution_count": 3,
   "id": "d0d7d3d8",
   "metadata": {},
   "outputs": [
    {
     "data": {
      "text/plain": [
       "[tensor([[[0.7608, 0.7686, 0.7765,  ..., 0.7294, 0.7137, 0.6980],\n",
       "          [0.7647, 0.7725, 0.7804,  ..., 0.7176, 0.7059, 0.7059],\n",
       "          [0.7647, 0.7765, 0.7882,  ..., 0.7137, 0.7059, 0.7137],\n",
       "          ...,\n",
       "          [0.7137, 0.7176, 0.7255,  ..., 0.6510, 0.6431, 0.6314],\n",
       "          [0.7059, 0.7098, 0.7176,  ..., 0.6471, 0.6353, 0.6235],\n",
       "          [0.6980, 0.7020, 0.7098,  ..., 0.6353, 0.6235, 0.6157]],\n",
       " \n",
       "         [[0.6078, 0.6157, 0.6235,  ..., 0.5765, 0.5608, 0.5451],\n",
       "          [0.6118, 0.6196, 0.6275,  ..., 0.5647, 0.5529, 0.5529],\n",
       "          [0.6118, 0.6235, 0.6353,  ..., 0.5608, 0.5529, 0.5608],\n",
       "          ...,\n",
       "          [0.5765, 0.5804, 0.5882,  ..., 0.4980, 0.4824, 0.4706],\n",
       "          [0.5686, 0.5725, 0.5804,  ..., 0.4941, 0.4784, 0.4627],\n",
       "          [0.5608, 0.5647, 0.5725,  ..., 0.4824, 0.4667, 0.4549]],\n",
       " \n",
       "         [[0.6118, 0.6196, 0.6275,  ..., 0.5490, 0.5333, 0.5176],\n",
       "          [0.6157, 0.6235, 0.6314,  ..., 0.5451, 0.5255, 0.5255],\n",
       "          [0.6157, 0.6275, 0.6392,  ..., 0.5412, 0.5294, 0.5333],\n",
       "          ...,\n",
       "          [0.5922, 0.5961, 0.6039,  ..., 0.4784, 0.4627, 0.4471],\n",
       "          [0.5843, 0.5882, 0.5961,  ..., 0.4745, 0.4588, 0.4392],\n",
       "          [0.5765, 0.5804, 0.5882,  ..., 0.4627, 0.4471, 0.4314]]]),\n",
       " tensor(0.)]"
      ]
     },
     "execution_count": 3,
     "metadata": {},
     "output_type": "execute_result"
    }
   ],
   "source": [
    "train[0]"
   ]
  },
  {
   "cell_type": "code",
   "execution_count": 4,
   "id": "767a0442",
   "metadata": {},
   "outputs": [
    {
     "name": "stdout",
     "output_type": "stream",
     "text": [
      "train length: 9605\n",
      "validation length: 1000\n"
     ]
    }
   ],
   "source": [
    "print('train length: ' + str(len(train)))\n",
    "print('validation length: ' + str(len(val)))"
   ]
  },
  {
   "cell_type": "code",
   "execution_count": 5,
   "id": "8c95a0f0",
   "metadata": {},
   "outputs": [],
   "source": [
    "#create the dataloaders + shuffle training data\n",
    "size=25\n",
    "\n",
    "trainloader = DataLoader(dataset=train, batch_size=size, shuffle=True)\n",
    "valloader = DataLoader(dataset=val, batch_size=100, shuffle=True)"
   ]
  },
  {
   "cell_type": "code",
   "execution_count": 6,
   "id": "1b3585e3",
   "metadata": {},
   "outputs": [
    {
     "data": {
      "text/plain": [
       "tensor([[ 0.4293, -0.5686]], grad_fn=<AddmmBackward0>)"
      ]
     },
     "execution_count": 6,
     "metadata": {},
     "output_type": "execute_result"
    }
   ],
   "source": [
    "#create the neural network\n",
    "torch.manual_seed(1)\n",
    "class Net(nn.Module):\n",
    "    \n",
    "    def __init__(self):\n",
    "        super(Net, self).__init__() \n",
    "        \n",
    "        self.layer1 = nn.Sequential(\n",
    "            nn.Conv2d(in_channels=3, out_channels=64, kernel_size=(11, 11), padding=4, stride=2),\n",
    "            nn.BatchNorm2d(64),\n",
    "            nn.ReLU(inplace=True),\n",
    "            nn.MaxPool2d(kernel_size=(3, 3), stride=2, dilation=1)\n",
    "        )\n",
    "            \n",
    "        self.layer2 = nn.Sequential(\n",
    "            nn.Conv2d(in_channels=64, out_channels=128, kernel_size=(5, 5), padding=2),\n",
    "            nn.BatchNorm2d(128),\n",
    "            nn.ReLU(inplace=True),\n",
    "            nn.MaxPool2d(kernel_size=(3, 3), stride=2, dilation=1)\n",
    "        )\n",
    "            \n",
    "        self.layer3 = nn.Sequential(\n",
    "            nn.Conv2d(in_channels=128, out_channels=256, kernel_size=(3, 3), padding=1),\n",
    "            nn.BatchNorm2d(256),\n",
    "            nn.ReLU(inplace=True),\n",
    "            nn.MaxPool2d(kernel_size=(3, 3), stride=2, dilation=1)\n",
    "        )\n",
    "        \n",
    "        self.layer4 = nn.Sequential(\n",
    "            nn.Conv2d(in_channels=256, out_channels=256, kernel_size=(3, 3), padding=1),\n",
    "            nn.BatchNorm2d(256),\n",
    "            nn.ReLU(inplace=True),\n",
    "            nn.MaxPool2d(kernel_size=(3, 3), stride=2, dilation=1)\n",
    "        )\n",
    "        \n",
    "        self.flat = nn.Flatten(1)\n",
    "        self.linear1 = nn.Linear(256 * 5 * 5, 4000)\n",
    "        self.drop1 = nn.Dropout(p=0.5, inplace=False)\n",
    "        self.linear2 = nn.Linear(4000, 2000)\n",
    "        self.drop2 = nn.Dropout(p=0.5, inplace=False)\n",
    "        self.linear3 = nn.Linear(2000, 2)\n",
    "        \n",
    "            \n",
    "    def forward(self, x):\n",
    "        x = self.layer1(x)\n",
    "        x = self.layer2(x)\n",
    "        x = self.layer3(x)\n",
    "        x = self.layer4(x)\n",
    "        x = self.flat(x)\n",
    "        x = self.linear1(x)\n",
    "        x = self.drop1(x)\n",
    "        x = self.linear2(x)\n",
    "        x = self.drop2(x)\n",
    "        x = self.linear3(x)\n",
    "        return x \n",
    "\n",
    "    \n",
    "#example --> nn.BCELoss()(model(train[0][0].unsqueeze(0)).max(1)[0], torch.tensor([1.0]))\n",
    "model = Net()\n",
    "model(train[0][0].unsqueeze(0))"
   ]
  },
  {
   "cell_type": "code",
   "execution_count": 7,
   "id": "2d9615ad",
   "metadata": {},
   "outputs": [],
   "source": [
    "#create the loss function (Cross Entropy) and optimizer (Stochastic Gradient Descent)\n",
    "criterion = nn.CrossEntropyLoss()\n",
    "optimizer = optim.SGD(model.parameters(), lr = 0.0007, momentum=0.9)"
   ]
  },
  {
   "cell_type": "code",
   "execution_count": 8,
   "id": "64b7a581",
   "metadata": {},
   "outputs": [
    {
     "name": "stdout",
     "output_type": "stream",
     "text": [
      "0.0% complete\n",
      "epoch 0 accuracy: 86.9\n",
      "0.0% complete\n",
      "epoch 1 accuracy: 89.9\n",
      "0.0% complete\n",
      "epoch 2 accuracy: 91.0\n",
      "0.0% complete\n",
      "epoch 3 accuracy: 91.60000000000001\n"
     ]
    }
   ],
   "source": [
    "#train the model + test accuracy each epoch\n",
    "COST = []\n",
    "ACCURACY = []\n",
    "\n",
    "epochs = 4\n",
    "\n",
    "tot = len(train)/size\n",
    "\n",
    "for epoch in range(epochs):\n",
    "    \n",
    "    model.train()\n",
    "    for i, (x,y) in enumerate(trainloader):\n",
    "        y = y.long()\n",
    "        optimizer.zero_grad()\n",
    "        yhat = model(x)\n",
    "        loss = criterion(yhat, y)\n",
    "        COST.append(loss.item())\n",
    "        loss.backward()\n",
    "        optimizer.step()\n",
    "        if (i % tot/10 == 0):\n",
    "            print(str((i/tot) * 100) + '% complete')\n",
    "        \n",
    "    correct = 0\n",
    "    total = 0\n",
    "    \n",
    "    model.eval()\n",
    "    for x,y in valloader:\n",
    "        z = model(x)\n",
    "        _,yhat = torch.max(z, 1)\n",
    "        correct += (yhat == y).sum().item()\n",
    "        total += len(y)\n",
    "        \n",
    "    accuracy = (correct/total) * 100\n",
    "    ACCURACY.append(accuracy)\n",
    "    print('epoch ' + str(epoch) + ' accuracy: ' + str(accuracy))"
   ]
  },
  {
   "cell_type": "code",
   "execution_count": 9,
   "id": "9459b99b",
   "metadata": {},
   "outputs": [
    {
     "data": {
      "image/png": "[encoded data removed]",
      "text/plain": [
       "<Figure size 640x480 with 2 Axes>"
      ]
     },
     "metadata": {},
     "output_type": "display_data"
    }
   ],
   "source": [
    "plt.subplot(2, 1, 1)\n",
    "plt.plot(COST, 'r')\n",
    "plt.ylabel('loss')\n",
    "plt.title('training loss iterations')\n",
    "plt.subplot(2, 1, 2)\n",
    "plt.plot(ACCURACY[0:8])\n",
    "plt.ylabel('accuracy')\n",
    "plt.xlabel('epochs')\n",
    "plt.show()"
   ]
  },
  {
   "cell_type": "code",
   "execution_count": 10,
   "id": "3d869ad0",
   "metadata": {},
   "outputs": [],
   "source": [
    "torch.save(model.state_dict(), 'finalmodel.pt')"
   ]
  }
 ],
 "metadata": {
  "celltoolbar": "Raw Cell Format",
  "kernelspec": {
   "display_name": "Python 3 (ipykernel)",
   "language": "python",
   "name": "python3"
  },
  "language_info": {
   "codemirror_mode": {
    "name": "ipython",
    "version": 3
   },
   "file_extension": ".py",
   "mimetype": "text/x-python",
   "name": "python",
   "nbconvert_exporter": "python",
   "pygments_lexer": "ipython3",
   "version": "3.11.4"
  }
 },
 "nbformat": 4,
 "nbformat_minor": 5
}
